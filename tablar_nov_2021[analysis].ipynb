{
  "nbformat": 4,
  "nbformat_minor": 0,
  "metadata": {
    "colab": {
      "name": "tablar-nov-2021[analysis].ipynb",
      "provenance": [],
      "authorship_tag": "ABX9TyOBVVeAH6IVm4Yo0VYqw/hD",
      "include_colab_link": true
    },
    "kernelspec": {
      "name": "python3",
      "display_name": "Python 3"
    },
    "language_info": {
      "name": "python"
    }
  },
  "cells": [
    {
      "cell_type": "markdown",
      "metadata": {
        "id": "view-in-github",
        "colab_type": "text"
      },
      "source": [
        "<a href=\"https://colab.research.google.com/github/riotamoriya/kaggle/blob/main/tablar_nov_2021%5Banalysis%5D.ipynb\" target=\"_parent\"><img src=\"https://colab.research.google.com/assets/colab-badge.svg\" alt=\"Open In Colab\"/></a>"
      ]
    },
    {
      "cell_type": "code",
      "metadata": {
        "id": "WatKLU-Qccvt"
      },
      "source": [
        "#@title Set the environment\n",
        "%matplotlib inline\n",
        "import numpy as np\n",
        "import pandas as pd \n",
        "import matplotlib.pyplot as plt\n",
        "import scipy.stats as stats\n",
        "import sklearn.linear_model as linear_model\n",
        "import seaborn as sns\n",
        "import xgboost as xgb\n",
        "from sklearn.model_selection import KFold\n",
        "from IPython.display import HTML, display\n",
        "from sklearn.manifold import TSNE\n",
        "from sklearn.cluster import KMeans\n",
        "from sklearn.decomposition import PCA\n",
        "from sklearn.preprocessing import StandardScaler\n",
        "\n",
        "\n",
        "pd.options.display.max_rows = 1000\n",
        "pd.options.display.max_columns = 20\n",
        "\n",
        "\n",
        "import sys\n",
        "from pathlib import Path\n",
        "\n",
        "if 'google.colab' in sys.modules:  # colab環境\n",
        "    INPUT = Path('/content/input/')\n",
        "elif 'kaggle_web_client' in sys.modules:  # kaggle環境\n",
        "    INPUT = Path('../input/')\n",
        "\n",
        "\n",
        "from requests import get\n",
        "\n",
        "name_notebook = get('http://172.28.0.2:9000/api/sessions').json()[0]['name']\n",
        "print(name_notebook)\n",
        "\n",
        "\n",
        "from google.colab import drive\n",
        "drive.mount('/content/drive')\n",
        "\n",
        "!mkdir -p ~/.kaggle\n",
        "!cp /content/drive/MyDrive/Kaggle_emwa/kaggle.json ~/.kaggle\n",
        "!pip install kaggle\n",
        "!pip install --upgrade --force-reinstall --no-deps kaggle\n",
        "!kaggle competitions list"
      ],
      "execution_count": null,
      "outputs": []
    }
  ]
}