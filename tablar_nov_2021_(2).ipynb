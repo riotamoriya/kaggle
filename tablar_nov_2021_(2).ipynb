{
  "nbformat": 4,
  "nbformat_minor": 0,
  "metadata": {
    "colab": {
      "name": "tablar_nov_2021_(2).ipynb",
      "provenance": [],
      "authorship_tag": "ABX9TyPd/poHIzx0+z9SD7prfYOX",
      "include_colab_link": true
    },
    "kernelspec": {
      "name": "python3",
      "display_name": "Python 3"
    },
    "language_info": {
      "name": "python"
    }
  },
  "cells": [
    {
      "cell_type": "markdown",
      "metadata": {
        "id": "view-in-github",
        "colab_type": "text"
      },
      "source": [
        "<a href=\"https://colab.research.google.com/github/riotamoriya/kaggle/blob/main/tablar_nov_2021_(2).ipynb\" target=\"_parent\"><img src=\"https://colab.research.google.com/assets/colab-badge.svg\" alt=\"Open In Colab\"/></a>"
      ]
    },
    {
      "cell_type": "code",
      "metadata": {
        "id": "9nilBFOaj9mI"
      },
      "source": [
        "#@title Set the environment\n",
        "%matplotlib inlineimport pandas as pd\n",
        "import numpy as np # linear algebra\n",
        "import matplotlib.pyplot as plt\n",
        "import seaborn as sns\n",
        "import csv\n",
        "import warnings\n",
        "warnings.simplefilter('ignore')\n",
        "import sys\n",
        "import gc\n",
        "\n",
        "pd.options.display.max_rows = 1000\n",
        "pd.options.display.max_columns = 20\n",
        "\n",
        "from pathlib import Path\n",
        "if 'google.colab' in sys.modules:  # colab環境\n",
        "    INPUT = Path('/content/input/')\n",
        "elif 'kaggle_web_client' in sys.modules:  # kaggle環境\n",
        "    INPUT = Path('../input/')\n",
        "\n",
        "# メタ情報を取得\n",
        "from requests import get\n",
        "name_notebook = get('http://172.28.0.2:9000/api/sessions').json()[0]['name']\n",
        "print(name_notebook)\n",
        "\n",
        "# google drive と接続\n",
        "from google.colab import drive\n",
        "drive.mount('/content/drive')\n",
        "\n",
        "# LINE 通知設定\n",
        "from drive.MyDrive.Kaggle_emwa.myPythonLib import send_line_notify as sln\n",
        "\n",
        "# kaggleと接続\n",
        "!mkdir -p ~/.kaggle\n",
        "!cp /content/drive/MyDrive/Kaggle_emwa/kaggle.json ~/.kaggle\n",
        "!pip install kaggle\n",
        "!pip install --upgrade --force-reinstall --no-deps kaggle\n",
        "# !kaggle competitions list"
      ],
      "execution_count": null,
      "outputs": []
    },
    {
      "cell_type": "code",
      "metadata": {
        "colab": {
          "base_uri": "https://localhost:8080/"
        },
        "id": "Sc5QCdtcqOPc",
        "outputId": "4626bc30-5c2e-4e89-d974-1e20db78d154"
      },
      "source": [
        "tryproblem = 'tabular-playground-series-nov-2021'\n",
        "tryproblem += '.zip'\n",
        "\n",
        "!kaggle competitions download -c tabular-playground-series-nov-2021\n",
        "import zipfile\n",
        "with zipfile.ZipFile(tryproblem) as existing_zip:\n",
        "    existing_zip.extractall('.')\n",
        "\n",
        "df_train = pd.read_csv('./train.csv')\n",
        "df_test = pd.read_csv('./test.csv')"
      ],
      "execution_count": 25,
      "outputs": [
        {
          "output_type": "stream",
          "name": "stdout",
          "text": [
            "tabular-playground-series-nov-2021.zip: Skipping, found more recently modified local copy (use --force to force download)\n"
          ]
        }
      ]
    }
  ]
}